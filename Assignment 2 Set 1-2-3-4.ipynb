{
 "cells": [
  {
   "cell_type": "markdown",
   "id": "7cd0b884",
   "metadata": {},
   "source": [
    "# Set 1"
   ]
  },
  {
   "cell_type": "code",
   "execution_count": 5,
   "id": "b082c22b",
   "metadata": {},
   "outputs": [],
   "source": [
    "import pandas as pd\n",
    "import numpy as np\n",
    "import seaborn as sns\n",
    "import matplotlib.pyplot as plt"
   ]
  },
  {
   "cell_type": "code",
   "execution_count": 45,
   "id": "8619a83a",
   "metadata": {},
   "outputs": [],
   "source": [
    "x=pd.Series([24.23,\n",
    "25.53,\n",
    "25.41,\n",
    "24.14,\n",
    "29.62,\n",
    "28.25,\n",
    "25.81,\n",
    "24.39,\n",
    "40.26,\n",
    "32.95,\n",
    "91.36,\n",
    "25.99,\n",
    "39.42,\n",
    "26.71,\n",
    "35.00,\n",
    "])"
   ]
  },
  {
   "cell_type": "code",
   "execution_count": 7,
   "id": "0a3c4315",
   "metadata": {},
   "outputs": [
    {
     "name": "stderr",
     "output_type": "stream",
     "text": [
      "C:\\Users\\vinay\\anaconda3\\lib\\site-packages\\seaborn\\_decorators.py:36: FutureWarning: Pass the following variable as a keyword arg: x. From version 0.12, the only valid positional argument will be `data`, and passing other arguments without an explicit keyword will result in an error or misinterpretation.\n",
      "  warnings.warn(\n"
     ]
    },
    {
     "data": {
      "text/plain": [
       "<AxesSubplot:>"
      ]
     },
     "execution_count": 7,
     "metadata": {},
     "output_type": "execute_result"
    },
    {
     "data": {
      "image/png": "[encoded data removed]",
      "text/plain": [
       "<Figure size 432x288 with 1 Axes>"
      ]
     },
     "metadata": {
      "needs_background": "light"
     },
     "output_type": "display_data"
    }
   ],
   "source": [
    "sns.boxplot(x)"
   ]
  },
  {
   "cell_type": "code",
   "execution_count": 8,
   "id": "4a9b3343",
   "metadata": {},
   "outputs": [
    {
     "data": {
      "text/plain": [
       "33.27133333333333"
      ]
     },
     "execution_count": 8,
     "metadata": {},
     "output_type": "execute_result"
    }
   ],
   "source": [
    "x.mean()"
   ]
  },
  {
   "cell_type": "code",
   "execution_count": 9,
   "id": "075b4516",
   "metadata": {},
   "outputs": [
    {
     "data": {
      "text/plain": [
       "287.1466123809524"
      ]
     },
     "execution_count": 9,
     "metadata": {},
     "output_type": "execute_result"
    }
   ],
   "source": [
    "x.var()"
   ]
  },
  {
   "cell_type": "code",
   "execution_count": 10,
   "id": "b87988e7",
   "metadata": {},
   "outputs": [
    {
     "data": {
      "text/plain": [
       "16.945400921222028"
      ]
     },
     "execution_count": 10,
     "metadata": {},
     "output_type": "execute_result"
    }
   ],
   "source": [
    "x.std()"
   ]
  },
  {
   "cell_type": "markdown",
   "id": "f4fe08e5",
   "metadata": {},
   "source": [
    "# Set 2"
   ]
  },
  {
   "cell_type": "code",
   "execution_count": 14,
   "id": "32e37121",
   "metadata": {},
   "outputs": [],
   "source": [
    "#Q2"
   ]
  },
  {
   "cell_type": "code",
   "execution_count": 11,
   "id": "389a68cd",
   "metadata": {},
   "outputs": [],
   "source": [
    "import statistics\n",
    "import numpy as np\n",
    "from scipy import stats\n",
    "import pandas as pd"
   ]
  },
  {
   "cell_type": "code",
   "execution_count": 12,
   "id": "e8ecdcdd",
   "metadata": {},
   "outputs": [
    {
     "data": {
      "text/plain": [
       "0.09121121972586788"
      ]
     },
     "execution_count": 12,
     "metadata": {},
     "output_type": "execute_result"
    }
   ],
   "source": [
    "stats.norm.cdf(30,38,6)"
   ]
  },
  {
   "cell_type": "code",
   "execution_count": 15,
   "id": "5a3f27ba",
   "metadata": {},
   "outputs": [],
   "source": [
    "#Q4"
   ]
  },
  {
   "cell_type": "code",
   "execution_count": 16,
   "id": "df79b8d0",
   "metadata": {},
   "outputs": [],
   "source": [
    "from scipy import stats\n",
    "from scipy.stats import norm"
   ]
  },
  {
   "cell_type": "code",
   "execution_count": 17,
   "id": "c132bbb9",
   "metadata": {},
   "outputs": [
    {
     "data": {
      "text/plain": [
       "(48.48341392902199, 151.516586070978)"
      ]
     },
     "execution_count": 17,
     "metadata": {},
     "output_type": "execute_result"
    }
   ],
   "source": [
    "stats.norm.interval(0.99,100,20)"
   ]
  },
  {
   "cell_type": "code",
   "execution_count": 19,
   "id": "4d1d1612",
   "metadata": {},
   "outputs": [],
   "source": [
    "#Q5"
   ]
  },
  {
   "cell_type": "code",
   "execution_count": 20,
   "id": "6deb3d28",
   "metadata": {},
   "outputs": [],
   "source": [
    "import numpy as np\n",
    "from scipy import stats\n",
    "from scipy.stats import norm"
   ]
  },
  {
   "cell_type": "code",
   "execution_count": 27,
   "id": "a8bfc894",
   "metadata": {},
   "outputs": [
    {
     "name": "stdout",
     "output_type": "stream",
     "text": [
      "Standard Deviation is Rs 225.0 Million\n"
     ]
    }
   ],
   "source": [
    "SD = np.sqrt((9)+(16))\n",
    "print('Standard Deviation is Rs', SD*45, 'Million')"
   ]
  },
  {
   "cell_type": "code",
   "execution_count": 28,
   "id": "06e9dcd5",
   "metadata": {},
   "outputs": [
    {
     "name": "stdout",
     "output_type": "stream",
     "text": [
      "Range is Rs (99.00810347848784, 980.9918965215122) in Millions\n"
     ]
    }
   ],
   "source": [
    "print('Range is Rs',(stats.norm.interval(0.95,540,225)),'in Millions')"
   ]
  },
  {
   "cell_type": "code",
   "execution_count": 29,
   "id": "f553e4f7",
   "metadata": {},
   "outputs": [
    {
     "name": "stdout",
     "output_type": "stream",
     "text": [
      "5th percentile of profit (in Million Rupees) is 170.0\n"
     ]
    }
   ],
   "source": [
    "X= 540+(-1.645)*(225)\n",
    "print('5th percentile of profit (in Million Rupees) is',np.round(X,))"
   ]
  },
  {
   "cell_type": "code",
   "execution_count": 30,
   "id": "788c5231",
   "metadata": {},
   "outputs": [
    {
     "data": {
      "text/plain": [
       "0.0477903522728147"
      ]
     },
     "execution_count": 30,
     "metadata": {},
     "output_type": "execute_result"
    }
   ],
   "source": [
    "stats.norm.cdf(0,5,3)"
   ]
  },
  {
   "cell_type": "code",
   "execution_count": 26,
   "id": "19dd5a99",
   "metadata": {},
   "outputs": [
    {
     "data": {
      "text/plain": [
       "0.040059156863817086"
      ]
     },
     "execution_count": 26,
     "metadata": {},
     "output_type": "execute_result"
    }
   ],
   "source": [
    "stats.norm.cdf(0,7,4)"
   ]
  },
  {
   "cell_type": "markdown",
   "id": "5643dc00",
   "metadata": {},
   "source": [
    "# Set 4"
   ]
  },
  {
   "cell_type": "code",
   "execution_count": 33,
   "id": "e46bf461",
   "metadata": {},
   "outputs": [],
   "source": [
    "#Q3"
   ]
  },
  {
   "cell_type": "code",
   "execution_count": 34,
   "id": "9a7cdc25",
   "metadata": {},
   "outputs": [],
   "source": [
    "import numpy as np\n",
    "from scipy import stats\n",
    "from scipy.stats import norm"
   ]
  },
  {
   "cell_type": "code",
   "execution_count": 35,
   "id": "b46a8d35",
   "metadata": {},
   "outputs": [
    {
     "data": {
      "text/plain": [
       "-1.25"
      ]
     },
     "execution_count": 35,
     "metadata": {},
     "output_type": "execute_result"
    }
   ],
   "source": [
    "z=(45-50)/(40/100**0.5)\n",
    "z"
   ]
  },
  {
   "cell_type": "code",
   "execution_count": 36,
   "id": "d780b5f3",
   "metadata": {},
   "outputs": [
    {
     "data": {
      "text/plain": [
       "1.25"
      ]
     },
     "execution_count": 36,
     "metadata": {},
     "output_type": "execute_result"
    }
   ],
   "source": [
    "z=(55-50)/(40/100**0.5)\n",
    "z"
   ]
  },
  {
   "cell_type": "code",
   "execution_count": 37,
   "id": "79833afd",
   "metadata": {},
   "outputs": [
    {
     "data": {
      "text/plain": [
       "0.7887004526662893"
      ]
     },
     "execution_count": 37,
     "metadata": {},
     "output_type": "execute_result"
    }
   ],
   "source": [
    "stats.norm.cdf(1.25)-stats.norm.cdf(-1.25)"
   ]
  },
  {
   "cell_type": "code",
   "execution_count": 38,
   "id": "0ad1bb60",
   "metadata": {},
   "outputs": [
    {
     "data": {
      "text/plain": [
       "(45.00000495667348, 54.99999504332652)"
      ]
     },
     "execution_count": 38,
     "metadata": {},
     "output_type": "execute_result"
    }
   ],
   "source": [
    "stats.norm.interval(0.7887,loc=50,scale=40/(100**0.5))"
   ]
  },
  {
   "cell_type": "code",
   "execution_count": 39,
   "id": "8e555827",
   "metadata": {},
   "outputs": [
    {
     "data": {
      "text/plain": [
       "0.21130000000000004"
      ]
     },
     "execution_count": 39,
     "metadata": {},
     "output_type": "execute_result"
    }
   ],
   "source": [
    "# For Investigation 1-P(45<X<55)\n",
    "1-0.7887"
   ]
  },
  {
   "cell_type": "code",
   "execution_count": 40,
   "id": "35c83d07",
   "metadata": {},
   "outputs": [],
   "source": [
    "#Q5"
   ]
  },
  {
   "cell_type": "code",
   "execution_count": 41,
   "id": "1ea09270",
   "metadata": {},
   "outputs": [],
   "source": [
    "import numpy as np\n",
    "from scipy import stats\n",
    "from scipy.stats import norm"
   ]
  },
  {
   "cell_type": "code",
   "execution_count": 42,
   "id": "decc4677",
   "metadata": {},
   "outputs": [
    {
     "data": {
      "text/plain": [
       "-3.195048252113469"
      ]
     },
     "execution_count": 42,
     "metadata": {},
     "output_type": "execute_result"
    }
   ],
   "source": [
    "z=(650-720)/(120/30**0.5)\n",
    "z"
   ]
  },
  {
   "cell_type": "code",
   "execution_count": 43,
   "id": "aa1080e2",
   "metadata": {},
   "outputs": [
    {
     "data": {
      "text/plain": [
       "3.195048252113469"
      ]
     },
     "execution_count": 43,
     "metadata": {},
     "output_type": "execute_result"
    }
   ],
   "source": [
    "z=(790-720)/(120/30**0.5)\n",
    "z"
   ]
  },
  {
   "cell_type": "code",
   "execution_count": 44,
   "id": "f78a33a7",
   "metadata": {},
   "outputs": [
    {
     "data": {
      "text/plain": [
       "0.9986019253587886"
      ]
     },
     "execution_count": 44,
     "metadata": {},
     "output_type": "execute_result"
    }
   ],
   "source": [
    "stats.norm.cdf(3.195048252113469)-stats.norm.cdf(-3.195048252113469)"
   ]
  },
  {
   "cell_type": "code",
   "execution_count": null,
   "id": "dd297b8a",
   "metadata": {},
   "outputs": [],
   "source": []
  }
 ],
 "metadata": {
  "kernelspec": {
   "display_name": "Python 3 (ipykernel)",
   "language": "python",
   "name": "python3"
  },
  "language_info": {
   "codemirror_mode": {
    "name": "ipython",
    "version": 3
   },
   "file_extension": ".py",
   "mimetype": "text/x-python",
   "name": "python",
   "nbconvert_exporter": "python",
   "pygments_lexer": "ipython3",
   "version": "3.9.7"
  }
 },
 "nbformat": 4,
 "nbformat_minor": 5
}
